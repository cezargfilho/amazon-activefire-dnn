{
  "nbformat": 4,
  "nbformat_minor": 0,
  "metadata": {
    "colab": {
      "name": "TF com Keras_2 - CNN_BatchNORM_Dropout.ipynb",
      "provenance": [],
      "collapsed_sections": [],
      "include_colab_link": true
    },
    "kernelspec": {
      "name": "python3",
      "display_name": "Python 3"
    },
    "accelerator": "GPU"
  },
  "cells": [
    {
      "cell_type": "markdown",
      "metadata": {
        "id": "view-in-github",
        "colab_type": "text"
      },
      "source": [
        "<a href=\"https://colab.research.google.com/github/cezargfilho/amazon-activefire-dnn/blob/main/2_TF_com_Keras_CNN_BatchNORM_Dropout.ipynb\" target=\"_parent\"><img src=\"https://colab.research.google.com/assets/colab-badge.svg\" alt=\"Open In Colab\"/></a>"
      ]
    },
    {
      "cell_type": "code",
      "metadata": {
        "id": "4_pv_P_meC8w"
      },
      "source": [
        "!pip3 install gdown\n",
        "!gdown --id 1yHEG8DQPlP21z-OtxSVcO4NBD5tZuyX7\n",
        "!unzip dataset_brazil_amazon_v3.zip\n",
        "\n",
        "# https://drive.google.com/file/d/1WCpShrH3FOoy14AAYATHyZYZum8hVQrd/view?usp=sharing V2\n",
        "# https://drive.google.com/file/d/1yHEG8DQPlP21z-OtxSVcO4NBD5tZuyX7/view?usp=sharing V3"
      ],
      "execution_count": null,
      "outputs": []
    },
    {
      "cell_type": "markdown",
      "metadata": {
        "id": "oPY0zz9dA-gE"
      },
      "source": [
        "# Image Augmentation"
      ]
    },
    {
      "cell_type": "code",
      "metadata": {
        "id": "muwgFwoUBFPv"
      },
      "source": [
        "!pip  install  Augmentor"
      ],
      "execution_count": null,
      "outputs": []
    },
    {
      "cell_type": "code",
      "metadata": {
        "id": "rO8uyFAYA_BX"
      },
      "source": [
        "import Augmentor\n",
        "\n",
        "p = Augmentor.Pipeline('./dataset_brazil_amazon_v2/train/1/')\n",
        "p.rotate(probability=1, max_left_rotation=10, max_right_rotation=10)\n",
        "# p.zoom(probability=0.5, min_factor=1.1, max_factor=1.5)\n",
        "p.flip_top_bottom(0.5)\n",
        "\n",
        "p.sample(18219)\n",
        "\n",
        "p.process()"
      ],
      "execution_count": null,
      "outputs": []
    },
    {
      "cell_type": "markdown",
      "metadata": {
        "id": "b3jUhtY4jtDV"
      },
      "source": [
        "Quantidade de imagens em cada diretório"
      ]
    },
    {
      "cell_type": "code",
      "metadata": {
        "id": "ozeD9QEsjxLa"
      },
      "source": [
        "import os\n",
        "\n",
        "print('total training fires images:', len(os.listdir('./dataset_brazil_amazon_v3/train/1')))\n",
        "print('total training non fires images:', len(os.listdir('./dataset_brazil_amazon_v3/train/0')))\n",
        "print('--------------------------------------')\n",
        "print('total test fires images:', len(os.listdir('./dataset_brazil_amazon_v3/test/1')))\n",
        "print('total test non fires images:', len(os.listdir('./dataset_brazil_amazon_v3/test/0')))"
      ],
      "execution_count": null,
      "outputs": []
    },
    {
      "cell_type": "code",
      "metadata": {
        "id": "-5fsznTWBeZ2"
      },
      "source": [
        "!mv  /content/dataset_brazil_amazon_v2/train/1/output /content/\n",
        "!rm -fr /content/dataset_brazil_amazon_v2/train/1\n",
        "!mv /content/output/ /content/1\n",
        "!mv -f /content/1  /content/dataset_brazil_amazon_v2/train/"
      ],
      "execution_count": null,
      "outputs": []
    },
    {
      "cell_type": "markdown",
      "metadata": {
        "id": "dLOumiEFu2qk"
      },
      "source": [
        "Eliminando diretórios /.ipynb_checkpoints"
      ]
    },
    {
      "cell_type": "code",
      "metadata": {
        "id": "-TcesgTF7R3S",
        "colab": {
          "base_uri": "https://localhost:8080/"
        },
        "outputId": "e38fd4e5-d15b-4f32-c127-30a6b62b691d"
      },
      "source": [
        "train_dir = os.listdir(\"/content/dataset_brazil_amazon_v3/train\") #First find where the \".ipynb_checkpoints\" is located.\n",
        "test_dir = os.listdir(\"/content/dataset_brazil_amazon_v3/test\")\n",
        "print(train_dir, test_dir)\n",
        "\n",
        "shutil.rmtree(\"/content/dataset_brazil_amazon_v3/train/.ipynb_checkpoints\")\n",
        "shutil.rmtree(\"/content/dataset_brazil_amazon_v3/test/.ipynb_checkpoints\")\n"
      ],
      "execution_count": null,
      "outputs": [
        {
          "output_type": "stream",
          "name": "stdout",
          "text": [
            "['.ipynb_checkpoints', '1', '0'] ['.ipynb_checkpoints', '1', '0']\n"
          ]
        }
      ]
    },
    {
      "cell_type": "markdown",
      "metadata": {
        "id": "HrI21AWowzZm"
      },
      "source": [
        "# Rede"
      ]
    },
    {
      "cell_type": "markdown",
      "metadata": {
        "id": "_2kVPOl04uVS"
      },
      "source": [
        "Imports"
      ]
    },
    {
      "cell_type": "code",
      "metadata": {
        "id": "EL-F5O384txf"
      },
      "source": [
        "import tensorflow as tf\n",
        "import keras_preprocessing\n",
        "import numpy as np\n",
        "import random\n",
        "import time\n",
        "import cv2\n",
        "import os, glob\n",
        "import sys\n",
        "import re\n",
        "import shutil\n",
        "import matplotlib.pyplot as plt\n",
        "import matplotlib.image as mpimg\n",
        "from os import listdir\n",
        "from keras_preprocessing import image\n",
        "from keras_preprocessing.image import ImageDataGenerator"
      ],
      "execution_count": 1,
      "outputs": []
    },
    {
      "cell_type": "code",
      "metadata": {
        "id": "xkF5DPDrd_ju"
      },
      "source": [
        "TRAIN_FOLDER = '/content/dataset_brazil_amazon_v3/train'\n",
        "TEST_FOLDER = '/content/dataset_brazil_amazon_v3/test'  \n",
        "SPLIT_RATE = 0.8       \n",
        "BATCH_SIZE = 100\n",
        "\n",
        "IMAGE_HEIGHT = 128  # height of the image\n",
        "IMAGE_WIDTH = 128   # width of the image\n",
        "NUM_CHANNELS = 3   # number of channels of the image"
      ],
      "execution_count": 2,
      "outputs": []
    },
    {
      "cell_type": "markdown",
      "metadata": {
        "id": "Sai8vzv4wSmi"
      },
      "source": [
        "Carregando imagens"
      ]
    },
    {
      "cell_type": "code",
      "metadata": {
        "id": "rVR1SBYLuIrv",
        "colab": {
          "base_uri": "https://localhost:8080/"
        },
        "outputId": "62c0cce7-3ba7-425f-ac66-6d7771f20915"
      },
      "source": [
        "training_datagen = ImageDataGenerator(\n",
        "      rescale = 1./255,\n",
        "\t    #rotation_range=40,\n",
        "      #width_shift_range=0.2,\n",
        "      #height_shift_range=0.2,\n",
        "      #shear_range=0.2,\n",
        "      #zoom_range=0.2,\n",
        "      horizontal_flip=True\n",
        "      #fill_mode='nearest'\n",
        "      )\n",
        "train_generator = training_datagen.flow_from_directory(\n",
        "\t\tdirectory=TRAIN_FOLDER, \n",
        "\t\tshuffle=True,\n",
        "\t\ttarget_size=(IMAGE_HEIGHT, IMAGE_WIDTH),\n",
        "\t\tclass_mode='binary'\n",
        ")"
      ],
      "execution_count": 3,
      "outputs": [
        {
          "output_type": "stream",
          "name": "stdout",
          "text": [
            "Found 173528 images belonging to 2 classes.\n"
          ]
        }
      ]
    },
    {
      "cell_type": "markdown",
      "metadata": {
        "id": "C_P7WfVS0lPN"
      },
      "source": [
        "Tensor para validação"
      ]
    },
    {
      "cell_type": "code",
      "metadata": {
        "id": "QT4dFmpV0nlm",
        "colab": {
          "base_uri": "https://localhost:8080/"
        },
        "outputId": "d890a2a5-ad02-4af3-e72c-68e4f8825aac"
      },
      "source": [
        "validation_datagen = ImageDataGenerator(rescale=1./255)\n",
        "\n",
        "validation_generator = validation_datagen.flow_from_directory(\n",
        "\tTEST_FOLDER,\n",
        "\ttarget_size=(IMAGE_HEIGHT,IMAGE_WIDTH),\n",
        "  class_mode='binary'\n",
        " )"
      ],
      "execution_count": 4,
      "outputs": [
        {
          "output_type": "stream",
          "name": "stdout",
          "text": [
            "Found 38827 images belonging to 2 classes.\n"
          ]
        }
      ]
    },
    {
      "cell_type": "code",
      "metadata": {
        "id": "WLt7ysogRzVc"
      },
      "source": [
        "type(training_datagen)"
      ],
      "execution_count": null,
      "outputs": []
    },
    {
      "cell_type": "markdown",
      "metadata": {
        "id": "nm03B6eXaGJx"
      },
      "source": [
        "# Converter tf.data.Dataset para Numpy arrays"
      ]
    },
    {
      "cell_type": "code",
      "metadata": {
        "id": "jSuaiSXkYM8N"
      },
      "source": [
        "import tensorflow_datasets as tfds"
      ],
      "execution_count": 7,
      "outputs": []
    },
    {
      "cell_type": "code",
      "metadata": {
        "id": "CfCBOkr3U150"
      },
      "source": [
        "X_train, y_train = next(train_generator)\n",
        "X_test, y_test = next(validation_generator)\n",
        "print(y_train)\n",
        "#(32, 128, 128, 3) -> (batch_size, linhas, colunas, dimensoes)"
      ],
      "execution_count": null,
      "outputs": []
    },
    {
      "cell_type": "code",
      "metadata": {
        "id": "yTzDxU0JnMby",
        "colab": {
          "base_uri": "https://localhost:8080/"
        },
        "outputId": "d8aac073-be83-4122-ee1f-037fe4e89dfb"
      },
      "source": [
        "print(X_train.shape, y_train.shape)\n",
        "print(X_test, y_test)"
      ],
      "execution_count": 16,
      "outputs": [
        {
          "output_type": "stream",
          "name": "stdout",
          "text": [
            "(28, 128, 128, 3) (28,)\n"
          ]
        }
      ]
    },
    {
      "cell_type": "code",
      "metadata": {
        "id": "2EiLt8-hNzzR"
      },
      "source": [
        "print(X_train[1])"
      ],
      "execution_count": null,
      "outputs": []
    },
    {
      "cell_type": "code",
      "metadata": {
        "id": "H1CSwa-xcW3v"
      },
      "source": [
        "X_train = X_train.astype('float32')/float(255)\n",
        "X_test = X_test.astype('float32')/float(255)"
      ],
      "execution_count": 95,
      "outputs": []
    },
    {
      "cell_type": "markdown",
      "metadata": {
        "id": "MR6PgM-8dG1N"
      },
      "source": [
        "# Plotando Imagens"
      ]
    },
    {
      "cell_type": "code",
      "metadata": {
        "id": "3j71TqU9uc_V"
      },
      "source": [
        "import matplotlib.pyplot as plt\n",
        "\n",
        "class_names = train_generator.class_names\n",
        "print(class_names)\n",
        "\n",
        "plt.figure(figsize=(10, 10))\n",
        "for images, labels in train_generator.take(1):\n",
        "  for i in range(9):\n",
        "    ax = plt.subplot(3, 3, i + 1)\n",
        "    plt.imshow(images[i].numpy().astype(\"uint8\"))\n",
        "    plt.title(class_names[labels[i]])\n",
        "    plt.axis(\"off\")"
      ],
      "execution_count": null,
      "outputs": []
    },
    {
      "cell_type": "markdown",
      "metadata": {
        "id": "hWFi8lEQ3dHW"
      },
      "source": [
        "# Definição da Rede Neural"
      ]
    },
    {
      "cell_type": "markdown",
      "metadata": {
        "id": "hn07Ux9WdxAo"
      },
      "source": [
        "Configuração de desempenho\n",
        "\n",
        "*   **Dataset.cache** mantém as imagens na memória depois de serem carregadas fora do disco durante a primeira época. Isso garantirá que o conjunto de dados não se torne um gargalo durante o treinamento do seu modelo. Se o seu conjunto de dados for muito grande para caber na memória, você também pode usar este método para criar um cache em disco de alto desempenho.\n",
        "*   **Dataset.prefetch** sobrepõe dados de pré-processamento e execução do modelo durante o treinamento.\n",
        "\n"
      ]
    },
    {
      "cell_type": "code",
      "metadata": {
        "id": "GRMJL6-e-ADI"
      },
      "source": [
        "AUTOTUNE = tf.data.AUTOTUNE\n",
        "\n",
        "train_ds = train_ds.cache().prefetch(buffer_size=AUTOTUNE)\n",
        "test_ds = test_ds.cache().prefetch(buffer_size=AUTOTUNE)"
      ],
      "execution_count": null,
      "outputs": []
    },
    {
      "cell_type": "markdown",
      "metadata": {
        "id": "y8QxmgQ-fC7x"
      },
      "source": [
        "Construindo o modelo"
      ]
    },
    {
      "cell_type": "code",
      "metadata": {
        "id": "qXUil0123Y9Z"
      },
      "source": [
        "# kernel_size= tamanho do kernel / strides= passo do kernel\n",
        "\n",
        "model = tf.keras.models.Sequential([\n",
        "    # Note the input shape is the desired size of the image 128X128 with 3 bytes color\n",
        "    # This is the first convolution\n",
        "    tf.keras.layers.Conv2D(64, kernel_size=(3,3), padding='valid', activation='relu', input_shape=(128, 128, 3)),\n",
        "    tf.keras.layers.MaxPooling2D(2, 2),\n",
        "    # The second convolution\n",
        "    tf.keras.layers.Conv2D(64, (3,3), padding='valid', activation='relu'),\n",
        "    tf.keras.layers.MaxPooling2D(2,2),\n",
        "    # The third convolution\n",
        "    tf.keras.layers.Conv2D(128, (3,3), padding='valid', activation='relu'),\n",
        "    tf.keras.layers.MaxPooling2D(2,2),\n",
        "    # The fourth convolution\n",
        "    tf.keras.layers.Conv2D(128, (3,3), padding='valid',activation='relu'),\n",
        "    tf.keras.layers.MaxPooling2D(2,2),\n",
        "    # Flatten the results to feed into a DNN\n",
        "    tf.keras.layers.Flatten(),\n",
        "    tf.keras.layers.Dropout(0.2),\n",
        "    # 512 neuron hidden layer\n",
        "    tf.keras.layers.Dense(512, activation=tf.nn.relu),\n",
        "    tf.keras.layers.Dense(2, activation=tf.nn.softmax)\n",
        "])"
      ],
      "execution_count": 5,
      "outputs": []
    },
    {
      "cell_type": "code",
      "metadata": {
        "id": "AGhpcnPziECB"
      },
      "source": [
        "model.summary()"
      ],
      "execution_count": null,
      "outputs": []
    },
    {
      "cell_type": "markdown",
      "metadata": {
        "id": "roHSbifpIsfZ"
      },
      "source": [
        "Arquitetura do modelo resultante:"
      ]
    },
    {
      "cell_type": "code",
      "metadata": {
        "id": "zLSaxvgJIp36"
      },
      "source": [
        "tf.keras.utils.plot_model(model, show_shapes=True)"
      ],
      "execution_count": null,
      "outputs": []
    },
    {
      "cell_type": "code",
      "metadata": {
        "id": "GNhzvbwliBvz"
      },
      "source": [
        "callbacks = [tf.keras.callbacks.EarlyStopping(monitor='val_loss')]\n",
        "\n",
        "model.compile(\n",
        "    loss=tf.losses.SparseCategoricalCrossentropy(from_logits=True), \n",
        "    optimizer=tf.optimizers.Adam(learning_rate=0.001), \n",
        "    metrics=['accuracy']\n",
        "    )"
      ],
      "execution_count": 6,
      "outputs": []
    },
    {
      "cell_type": "code",
      "metadata": {
        "colab": {
          "base_uri": "https://localhost:8080/"
        },
        "id": "wwQBe2ALdhji",
        "outputId": "f797106a-32f9-4981-92b9-8b8d5ffe4a9e"
      },
      "source": [
        "history = model.fit(\n",
        "    train_generator,\n",
        "    batch_size=542,\n",
        "    validation_data=validation_generator,\n",
        "    epochs=30\n",
        "    #callbacks=callbacks\n",
        "    )\n",
        "\n",
        "model.save(\"amazon_fire.keras\")"
      ],
      "execution_count": null,
      "outputs": [
        {
          "output_type": "stream",
          "name": "stdout",
          "text": [
            "Epoch 1/30\n",
            "5423/5423 [==============================] - 346s 63ms/step - loss: 0.3445 - accuracy: 0.9686 - val_loss: 0.7547 - val_accuracy: 0.5586\n",
            "Epoch 2/30\n",
            "3455/5423 [==================>...........] - ETA: 1:50 - loss: 0.4247 - accuracy: 0.8885"
          ]
        }
      ]
    },
    {
      "cell_type": "code",
      "metadata": {
        "id": "LO0x6rYppsDb",
        "colab": {
          "base_uri": "https://localhost:8080/",
          "height": 609
        },
        "outputId": "9b730e68-6c27-4f33-86d8-eb1b3fec6995"
      },
      "source": [
        "import matplotlib.pyplot as plt\n",
        "\n",
        "acc = history.history['accuracy']\n",
        "loss = history.history['loss']\n",
        "val_acc = history.history['val_accuracy']\n",
        "val_loss = history.history['val_loss']\n",
        "\n",
        "epochs = range(len(acc))\n",
        "\n",
        "plt.plot(epochs, acc, color='green', label='treino')\n",
        "plt.plot(epochs, val_acc, 'b', label='validação')\n",
        "plt.title('Acurácia por épocas')\n",
        "plt.legend(loc='lower right') # 'upper left', 'upper right', 'lower left', 'lower right')\n",
        "plt.xlabel('épocas')\n",
        "plt.ylabel('acurácia')\n",
        "plt.figure()\n",
        "plt.show()\n",
        "\n",
        "plt.plot(epochs, loss, color='green', label='treino')\n",
        "plt.plot(epochs, val_loss, 'b', label='validação')\n",
        "plt.title('Perda por épocas')\n",
        "plt.legend(loc='upper right')\n",
        "plt.xlabel('época')\n",
        "plt.ylabel('perda')\n",
        "plt.figure()\n",
        "plt.show()"
      ],
      "execution_count": null,
      "outputs": [
        {
          "output_type": "display_data",
          "data": {
            "image/png": "[encoded data removed]",
            "text/plain": [
              "<Figure size 432x288 with 1 Axes>"
            ]
          },
          "metadata": {
            "needs_background": "light"
          }
        },
        {
          "output_type": "display_data",
          "data": {
            "text/plain": [
              "<Figure size 432x288 with 0 Axes>"
            ]
          },
          "metadata": {}
        },
        {
          "output_type": "display_data",
          "data": {
            "image/png": "[encoded data removed]",
            "text/plain": [
              "<Figure size 432x288 with 1 Axes>"
            ]
          },
          "metadata": {
            "needs_background": "light"
          }
        },
        {
          "output_type": "display_data",
          "data": {
            "text/plain": [
              "<Figure size 432x288 with 0 Axes>"
            ]
          },
          "metadata": {}
        }
      ]
    },
    {
      "cell_type": "markdown",
      "metadata": {
        "id": "y5GS4XipsjFV"
      },
      "source": [
        "# Predição"
      ]
    },
    {
      "cell_type": "code",
      "metadata": {
        "id": "FY6-VrnKkMpn"
      },
      "source": [
        "test_pred_y = model.predict(x_test)"
      ],
      "execution_count": null,
      "outputs": []
    },
    {
      "cell_type": "code",
      "metadata": {
        "colab": {
          "base_uri": "https://localhost:8080/"
        },
        "id": "4dnkrZkjq98g",
        "outputId": "8d91ff79-7d8e-47cd-860d-5ea19e908f7b"
      },
      "source": [
        "test_loss, test_acc = model.evaluate(x_test,  y_test, verbose=2)\n",
        "print(test_acc)"
      ],
      "execution_count": null,
      "outputs": [
        {
          "output_type": "stream",
          "name": "stdout",
          "text": [
            "1/1 - 0s - loss: 0.4992 - accuracy: 0.8214\n",
            "0.8214285969734192\n"
          ]
        }
      ]
    }
  ]
}